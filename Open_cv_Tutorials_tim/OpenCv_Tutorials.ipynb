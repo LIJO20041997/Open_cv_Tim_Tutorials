{
 "cells": [
  {
   "cell_type": "code",
   "execution_count": 1,
   "id": "39c3869a",
   "metadata": {},
   "outputs": [],
   "source": [
    "import cv2"
   ]
  },
  {
   "cell_type": "code",
   "execution_count": 38,
   "id": "2ae68614",
   "metadata": {},
   "outputs": [
    {
     "data": {
      "text/plain": [
       "True"
      ]
     },
     "execution_count": 38,
     "metadata": {},
     "output_type": "execute_result"
    }
   ],
   "source": [
    "img = cv2.imread(\"lijo_pic.jpg\", 1)\n",
    "img = cv2.resize(img, (0,0), fx=2, fy=1)\n",
    "img = cv2.rotate(img, cv2.ROTATE_90_COUNTERCLOCKWISE)\n",
    "\n",
    "cv2.imwrite(\"new_img.jpg\", img)"
   ]
  },
  {
   "cell_type": "code",
   "execution_count": 22,
   "id": "787e09c7",
   "metadata": {},
   "outputs": [],
   "source": [
    "# -1, cv2.imread_color : Loads a color image. Any transparency of image\n",
    "# 0, cv2.imread_grayscale : Loads image in grayscale mode\n",
    "# 1, cv2.imread_unchanged : Loads image as such including alpha channel"
   ]
  },
  {
   "cell_type": "code",
   "execution_count": 23,
   "id": "5376557a",
   "metadata": {},
   "outputs": [],
   "source": [
    "cv2.imshow(\"Image\", img)\n",
    "cv2.waitKey(0)\n",
    "cv2.destroyAllWindows()"
   ]
  },
  {
   "cell_type": "code",
   "execution_count": 42,
   "id": "9d95f622",
   "metadata": {},
   "outputs": [],
   "source": [
    "img = cv2.imread(\"lijo_pic.jpg\", -1)"
   ]
  },
  {
   "cell_type": "code",
   "execution_count": 43,
   "id": "1c38bb38",
   "metadata": {},
   "outputs": [
    {
     "name": "stdout",
     "output_type": "stream",
     "text": [
      "<class 'numpy.ndarray'>\n"
     ]
    }
   ],
   "source": [
    "print(type(img))"
   ]
  },
  {
   "cell_type": "code",
   "execution_count": 45,
   "id": "49811e33",
   "metadata": {},
   "outputs": [
    {
     "name": "stdout",
     "output_type": "stream",
     "text": [
      "(800, 800, 3)\n"
     ]
    }
   ],
   "source": [
    "print(img.shape)    # 800 rows - height\n",
    "                    # 800 colums - width\n",
    "                    # 3 channels - bgr in opencv"
   ]
  },
  {
   "cell_type": "code",
   "execution_count": 56,
   "id": "db1ebb10",
   "metadata": {},
   "outputs": [
    {
     "name": "stdout",
     "output_type": "stream",
     "text": [
      "[172 201 205]\n"
     ]
    }
   ],
   "source": [
    "print(img[1][1])"
   ]
  },
  {
   "cell_type": "code",
   "execution_count": null,
   "id": "4b221562",
   "metadata": {},
   "outputs": [],
   "source": []
  },
  {
   "cell_type": "code",
   "execution_count": 59,
   "id": "5f4c830d",
   "metadata": {},
   "outputs": [],
   "source": [
    "import random\n",
    "\n",
    "for i in range(100):\n",
    "    for j in range(img.shape[1]):\n",
    "        img[i][j] = [random.randint(0,255),random.randint(0,255),random.randint(0,255)]\n",
    "        \n",
    "cv2.imshow(\"Image\", img)\n",
    "cv2.waitKey(0)\n",
    "cv2.destroyAllWindows()"
   ]
  },
  {
   "cell_type": "code",
   "execution_count": 62,
   "id": "a31f42a5",
   "metadata": {},
   "outputs": [],
   "source": [
    "img = cv2.imread(\"lijo_pic.jpg\", -1)"
   ]
  },
  {
   "cell_type": "code",
   "execution_count": 65,
   "id": "760d0c53",
   "metadata": {},
   "outputs": [],
   "source": [
    "tag = img[300:500, 500:700]\n",
    "img[100:300,400:600] = tag"
   ]
  },
  {
   "cell_type": "code",
   "execution_count": 66,
   "id": "8c7dfb4b",
   "metadata": {},
   "outputs": [],
   "source": [
    "cv2.imshow(\"Image\", img)\n",
    "cv2.waitKey(0)\n",
    "cv2.destroyAllWindows()"
   ]
  },
  {
   "cell_type": "markdown",
   "id": "edae7cf1",
   "metadata": {},
   "source": [
    "## VedioCApture"
   ]
  },
  {
   "cell_type": "code",
   "execution_count": 67,
   "id": "aef5647d",
   "metadata": {},
   "outputs": [],
   "source": [
    "import numpy as np\n",
    "import cv2"
   ]
  },
  {
   "cell_type": "code",
   "execution_count": 75,
   "id": "6faca086",
   "metadata": {},
   "outputs": [],
   "source": [
    "cap = cv2.VideoCapture(0)\n",
    "\n",
    "while True:\n",
    "    ret, frame = cap.read()\n",
    "    width = int(cap.get(3))\n",
    "    height = int(cap.get(4))\n",
    "    \n",
    "    image = np.zeros(frame.shape, np.uint8)\n",
    "    smaller_frame = cv2.resize(frame,(0,0), fx=0.5,fy=0.5)\n",
    "    image[:height//2, :width//2] = smaller_frame   #top left\n",
    "    image[height//2:, :width//2] = cv2.rotate(smaller_frame, cv2.ROTATE_180)   #bottom left\n",
    "    image[:height//2, width//2:] = smaller_frame    #top right\n",
    "    image[height//2:, width//2:] = cv2.rotate(smaller_frame, cv2.ROTATE_180)  #bottom right\n",
    "    \n",
    "    cv2.imshow(\"frame\", image)\n",
    "    \n",
    "    if cv2.waitKey(1) == ord(\"q\"):\n",
    "        break\n",
    "\n",
    "cap.release()\n",
    "cv2.destroyAllWindows()"
   ]
  },
  {
   "cell_type": "code",
   "execution_count": null,
   "id": "ecde504b",
   "metadata": {},
   "outputs": [],
   "source": []
  },
  {
   "cell_type": "markdown",
   "id": "acfd20f8",
   "metadata": {},
   "source": [
    "## Drawing Lines and patterns"
   ]
  },
  {
   "cell_type": "code",
   "execution_count": 84,
   "id": "f56278e9",
   "metadata": {},
   "outputs": [],
   "source": [
    "cap  =cv2.VideoCapture(0)\n",
    "\n",
    "while True:\n",
    "    ret, frame = cap.read()\n",
    "    width = int(cap.get(3))\n",
    "    height = int(cap.get(4))\n",
    "    \n",
    "    img = cv2.line(frame, (0,0), (width, height), (255,0,0), 10)\n",
    "    img = cv2.line(img, (0,height), (width, 0), (0,0,255), 10)\n",
    "    img = cv2.rectangle(img, (100,100), (200,200), (100,100,100), 5)\n",
    "    img = cv2.circle(img, (300,300),60,(0,255,0), 1)\n",
    "    font = cv2.FONT_HERSHEY_COMPLEX\n",
    "    img = cv2.putText(img, \"Lijo\", (200,height -10), font,4, (0,0,0),5, cv2.LINE_AA)\n",
    "    \n",
    "    cv2.imshow(\"frame\", img)\n",
    "    \n",
    "    if cv2.waitKey(1) == ord(\"q\"):\n",
    "        break\n",
    "        \n",
    "cap.release()\n",
    "cv2.destroyAllWindows()"
   ]
  },
  {
   "cell_type": "code",
   "execution_count": null,
   "id": "0c145529",
   "metadata": {},
   "outputs": [],
   "source": []
  },
  {
   "cell_type": "markdown",
   "id": "571a721d",
   "metadata": {},
   "source": [
    "## COLOR AND COLOR DETECTION"
   ]
  },
  {
   "cell_type": "code",
   "execution_count": 90,
   "id": "faf3fbf9",
   "metadata": {},
   "outputs": [],
   "source": [
    "cap = cv2.VideoCapture(0)\n",
    "\n",
    "while True:\n",
    "    \n",
    "    ret, frame = cap.read()\n",
    "    width = int(cap.get(3))\n",
    "    height = int(cap.get(4))\n",
    "    \n",
    "    hsv = cv2.cvtColor(frame, cv2.COLOR_BGR2HSV)\n",
    "    lower_blue = np.array([110,50,50])\n",
    "    upper_blue = np.array([130,255,255])\n",
    "    \n",
    "    mask = cv2.inRange(hsv, lower_blue, upper_blue)\n",
    "    result = cv2.bitwise_and(frame, frame, mask = mask)\n",
    "    \n",
    "    cv2.imshow(\"frame\", result)\n",
    "    cv2.imshow(\"mask\",mask)\n",
    "    \n",
    "    if cv2.waitKey(1) == ord(\"q\"):\n",
    "        break\n",
    "    \n",
    "cap.release()\n",
    "cv2.destroyAllWindows()"
   ]
  },
  {
   "cell_type": "markdown",
   "id": "6a5e7659",
   "metadata": {},
   "source": [
    "## Corner Detection"
   ]
  },
  {
   "cell_type": "code",
   "execution_count": null,
   "id": "8663687d",
   "metadata": {},
   "outputs": [],
   "source": []
  },
  {
   "cell_type": "code",
   "execution_count": 98,
   "id": "c977c55b",
   "metadata": {},
   "outputs": [],
   "source": [
    "import numpy as np\n",
    "import cv2\n",
    "\n",
    "img = cv2.imread(\"chessboard.png\")\n",
    "img = cv2.resize(img, (0,0), fx=0.5, fy=0.5)\n",
    "gray = cv2.cvtColor(img, cv2.COLOR_BGR2GRAY)\n",
    "\n",
    "corners = cv2.goodFeaturesToTrack(gray, 100, 0.01, 10)\n",
    "corners = np.intp(corners)\n",
    "\n",
    "for corner in corners:\n",
    "    x, y= corner.ravel()\n",
    "    cv2.circle(img, (x,y),5,(255,0,0), -1)\n",
    "    \n",
    "for i in range(len(corners)):\n",
    "    for j in range(i+1, len(corners)):\n",
    "        corner1 = tuple(corners[i][0])\n",
    "        corner2 = tuple(corners[j][0])\n",
    "        color = tuple( map(lambda x:int(x), np.random.randint(0,255, size=3)))\n",
    "        cv2.line(img, corner1, corner2,(),1)\n",
    "\n",
    "cv2.imshow(\"Image2\", img)\n",
    "cv2.waitKey(0)\n",
    "cv2.destroyAllWindows()"
   ]
  },
  {
   "cell_type": "code",
   "execution_count": null,
   "id": "c116f321",
   "metadata": {},
   "outputs": [],
   "source": []
  },
  {
   "cell_type": "markdown",
   "id": "5f432498",
   "metadata": {},
   "source": [
    "## Templete Matching (Object Dectection)"
   ]
  },
  {
   "cell_type": "markdown",
   "id": "93479fe4",
   "metadata": {},
   "source": [
    "### Detecting The Shoe"
   ]
  },
  {
   "cell_type": "code",
   "execution_count": 114,
   "id": "648c1cfa",
   "metadata": {},
   "outputs": [],
   "source": [
    "import numpy as np\n",
    "import cv2\n",
    "\n",
    "img = cv2.imread(\"soccer_practice.jpg\",0)\n",
    "img = cv2.resize(img, (0,0), fx =0.5, fy = 0.5)\n",
    "template = cv2.imread(\"shoe.PNG\",0)\n",
    "template = cv2.resize(template,(0,0), fx=0.5, fy=0.5)\n",
    "\n",
    "h, w = template.shape\n",
    "\n",
    "methods = [cv2.TM_CCOEFF, cv2.TM_CCOEFF_NORMED, cv2.TM_CCORR, cv2.TM_CCORR_NORMED,cv2.TM_SQDIFF,cv2.TM_SQDIFF_NORMED]\n",
    "\n",
    "for method in methods:\n",
    "    img2 = img.copy()\n",
    "    \n",
    "    result = cv2.matchTemplate(img2, template, method)\n",
    "    min_val, max_val, min_loc, max_loc = cv2.minMaxLoc(result)\n",
    "    \n",
    "    if method in [cv2.TM_SQDIFF, cv2.TM_SQDIFF_NORMED]:\n",
    "        location = min_loc\n",
    "    else:\n",
    "        location = max_loc\n",
    "        \n",
    "    bottom_right = (location[0]+w, location[1]+h)\n",
    "    cv2.rectangle(img2, location, bottom_right, 255, 5)\n",
    "    cv2.imshow(\"Match\", img2)\n",
    "    cv2.waitKey(0)\n",
    "    cv2.destroyAllWindows()\n",
    "    \n",
    "    "
   ]
  },
  {
   "cell_type": "markdown",
   "id": "9d961d26",
   "metadata": {},
   "source": [
    "### Detecting Ball"
   ]
  },
  {
   "cell_type": "code",
   "execution_count": 115,
   "id": "b9a171b8",
   "metadata": {},
   "outputs": [],
   "source": [
    "import numpy as np\n",
    "import cv2\n",
    "\n",
    "img = cv2.imread(\"soccer_practice.jpg\",0)\n",
    "img = cv2.resize(img, (0,0), fx =0.5, fy = 0.5)\n",
    "template = cv2.imread(\"ball.PNG\",0)\n",
    "template = cv2.resize(template,(0,0), fx=0.5, fy=0.5)\n",
    "\n",
    "h, w = template.shape\n",
    "\n",
    "methods = [cv2.TM_CCOEFF, cv2.TM_CCOEFF_NORMED, cv2.TM_CCORR, cv2.TM_CCORR_NORMED,cv2.TM_SQDIFF,cv2.TM_SQDIFF_NORMED]\n",
    "\n",
    "for method in methods:\n",
    "    img2 = img.copy()\n",
    "    \n",
    "    result = cv2.matchTemplate(img2, template, method)\n",
    "    min_val, max_val, min_loc, max_loc = cv2.minMaxLoc(result)\n",
    "    \n",
    "    if method in [cv2.TM_SQDIFF, cv2.TM_SQDIFF_NORMED]:\n",
    "        location = min_loc\n",
    "    else:\n",
    "        location = max_loc\n",
    "        \n",
    "    bottom_right = (location[0]+w, location[1]+h)\n",
    "    cv2.rectangle(img2, location, bottom_right, 255, 5)\n",
    "    cv2.imshow(\"Match\", img2)\n",
    "    cv2.waitKey(0)\n",
    "    cv2.destroyAllWindows()"
   ]
  },
  {
   "cell_type": "markdown",
   "id": "69fc7c59",
   "metadata": {},
   "source": [
    "# FACE AND EYE DETECTION"
   ]
  },
  {
   "cell_type": "code",
   "execution_count": 128,
   "id": "1257558c",
   "metadata": {},
   "outputs": [],
   "source": [
    "import numpy as np\n",
    "import cv2\n",
    "\n",
    "cap = cv2.VideoCapture(0)\n",
    "face_cascade = cv2.CascadeClassifier(cv2.data.haarcascades + \"haarcascade_frontalface_default.xml\")\n",
    "eye_cascade = cv2.CascadeClassifier(cv2.data.haarcascades + \"haarcascade_eye.xml\")\n",
    "\n",
    "\n",
    "while True:\n",
    "    \n",
    "    rent, frame = cap.read()\n",
    "    gray = cv2.cvtColor(frame, cv2.COLOR_BGR2GRAY)\n",
    "    faces = face_cascade.detectMultiScale(gray, 1.3, 5)\n",
    "    \n",
    "    for (x,y,w,h) in faces:\n",
    "        cv2.rectangle(frame, (x,y), (x+w, y+h), (255,0,0), 5)\n",
    "        roi_gray = gray[y:y+w, x:x+w]\n",
    "        roi_color = frame[y:y+h, x:x+w]\n",
    "        \n",
    "        eyes = eye_cascade.detectMultiScale(roi_gray, 1.3,5)\n",
    "        for (ex, ey, ew, eh) in eyes:\n",
    "            cv2.rectangle(roi_color, (ex, ey), (ex+ew, ey+eh),(0,255,0), 5)\n",
    "         \n",
    "        \n",
    "    \n",
    "    cv2.imshow(\"frame\", frame)\n",
    "    \n",
    "    if cv2.waitKey(1) == ord(\"q\"):\n",
    "        break\n",
    "        \n",
    "        \n",
    "cap.release()\n",
    "cv2.destroyAllWindows()\n"
   ]
  },
  {
   "cell_type": "code",
   "execution_count": null,
   "id": "44d9040d",
   "metadata": {},
   "outputs": [],
   "source": []
  },
  {
   "cell_type": "code",
   "execution_count": null,
   "id": "631eb00e",
   "metadata": {},
   "outputs": [],
   "source": []
  },
  {
   "cell_type": "code",
   "execution_count": null,
   "id": "934ed149",
   "metadata": {},
   "outputs": [],
   "source": []
  },
  {
   "cell_type": "code",
   "execution_count": null,
   "id": "217e290c",
   "metadata": {},
   "outputs": [],
   "source": []
  },
  {
   "cell_type": "code",
   "execution_count": null,
   "id": "3c93e83f",
   "metadata": {},
   "outputs": [],
   "source": []
  },
  {
   "cell_type": "code",
   "execution_count": null,
   "id": "cb57a27e",
   "metadata": {},
   "outputs": [],
   "source": []
  },
  {
   "cell_type": "code",
   "execution_count": null,
   "id": "8ef169d5",
   "metadata": {},
   "outputs": [],
   "source": []
  }
 ],
 "metadata": {
  "kernelspec": {
   "display_name": "Python 3 (ipykernel)",
   "language": "python",
   "name": "python3"
  },
  "language_info": {
   "codemirror_mode": {
    "name": "ipython",
    "version": 3
   },
   "file_extension": ".py",
   "mimetype": "text/x-python",
   "name": "python",
   "nbconvert_exporter": "python",
   "pygments_lexer": "ipython3",
   "version": "3.11.5"
  }
 },
 "nbformat": 4,
 "nbformat_minor": 5
}
